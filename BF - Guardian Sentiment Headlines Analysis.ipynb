{
 "cells": [
  {
   "cell_type": "code",
   "execution_count": 37,
   "id": "6fd11fb7",
   "metadata": {},
   "outputs": [],
   "source": [
    "import pandas as pd\n",
    "import matplotlib.pyplot as plt\n",
    "import numpy as np\n",
    "\n",
    "df = pd.read_csv(\"./archive/guardian_headlines.csv\")\n",
    "\n",
    "# Convert 'Time' column to datetime\n",
    "df['Time'] = pd.to_datetime(df['Time'])"
   ]
  },
  {
   "cell_type": "code",
   "execution_count": 38,
   "id": "add72ea9",
   "metadata": {},
   "outputs": [
    {
     "data": {
      "text/html": [
       "<div>\n",
       "<style scoped>\n",
       "    .dataframe tbody tr th:only-of-type {\n",
       "        vertical-align: middle;\n",
       "    }\n",
       "\n",
       "    .dataframe tbody tr th {\n",
       "        vertical-align: top;\n",
       "    }\n",
       "\n",
       "    .dataframe thead th {\n",
       "        text-align: right;\n",
       "    }\n",
       "</style>\n",
       "<table border=\"1\" class=\"dataframe\">\n",
       "  <thead>\n",
       "    <tr style=\"text-align: right;\">\n",
       "      <th></th>\n",
       "      <th>Time</th>\n",
       "      <th>Headlines</th>\n",
       "    </tr>\n",
       "  </thead>\n",
       "  <tbody>\n",
       "    <tr>\n",
       "      <th>0</th>\n",
       "      <td>2020-07-18</td>\n",
       "      <td>Johnson is asking Santa for a Christmas recovery</td>\n",
       "    </tr>\n",
       "    <tr>\n",
       "      <th>1</th>\n",
       "      <td>2020-07-18</td>\n",
       "      <td>‘I now fear the worst’: four grim tales of wor...</td>\n",
       "    </tr>\n",
       "    <tr>\n",
       "      <th>2</th>\n",
       "      <td>2020-07-18</td>\n",
       "      <td>Five key areas Sunak must tackle to serve up e...</td>\n",
       "    </tr>\n",
       "    <tr>\n",
       "      <th>3</th>\n",
       "      <td>2020-07-18</td>\n",
       "      <td>Covid-2019 leaves firms ‘fatally ill-prepared’...</td>\n",
       "    </tr>\n",
       "    <tr>\n",
       "      <th>4</th>\n",
       "      <td>2020-07-18</td>\n",
       "      <td>The Week in Patriarchy  \\r\\n\\r\\n\\r\\n  Bacardi'...</td>\n",
       "    </tr>\n",
       "    <tr>\n",
       "      <th>5</th>\n",
       "      <td>2020-07-18</td>\n",
       "      <td>English councils call for smoking ban outside ...</td>\n",
       "    </tr>\n",
       "    <tr>\n",
       "      <th>6</th>\n",
       "      <td>2020-07-18</td>\n",
       "      <td>Can Tesla justify a $300bn valuation?</td>\n",
       "    </tr>\n",
       "    <tr>\n",
       "      <th>7</th>\n",
       "      <td>2020-07-18</td>\n",
       "      <td>Empty city centres: 'I’m not sure it will ever...</td>\n",
       "    </tr>\n",
       "    <tr>\n",
       "      <th>8</th>\n",
       "      <td>2020-07-18</td>\n",
       "      <td>Democratising finance for all? An investment a...</td>\n",
       "    </tr>\n",
       "    <tr>\n",
       "      <th>9</th>\n",
       "      <td>2020-07-18</td>\n",
       "      <td>Homebuyer loses £300,000 to fraudsters – but g...</td>\n",
       "    </tr>\n",
       "  </tbody>\n",
       "</table>\n",
       "</div>"
      ],
      "text/plain": [
       "        Time                                          Headlines\n",
       "0 2020-07-18   Johnson is asking Santa for a Christmas recovery\n",
       "1 2020-07-18  ‘I now fear the worst’: four grim tales of wor...\n",
       "2 2020-07-18  Five key areas Sunak must tackle to serve up e...\n",
       "3 2020-07-18  Covid-2019 leaves firms ‘fatally ill-prepared’...\n",
       "4 2020-07-18  The Week in Patriarchy  \\r\\n\\r\\n\\r\\n  Bacardi'...\n",
       "5 2020-07-18  English councils call for smoking ban outside ...\n",
       "6 2020-07-18              Can Tesla justify a $300bn valuation?\n",
       "7 2020-07-18  Empty city centres: 'I’m not sure it will ever...\n",
       "8 2020-07-18  Democratising finance for all? An investment a...\n",
       "9 2020-07-18  Homebuyer loses £300,000 to fraudsters – but g..."
      ]
     },
     "execution_count": 38,
     "metadata": {},
     "output_type": "execute_result"
    }
   ],
   "source": [
    "df.head(10)"
   ]
  },
  {
   "cell_type": "code",
   "execution_count": 40,
   "id": "686c5bd3",
   "metadata": {},
   "outputs": [
    {
     "name": "stdout",
     "output_type": "stream",
     "text": [
      "(17800, 1)\n"
     ]
    },
    {
     "data": {
      "text/html": [
       "<div>\n",
       "<style scoped>\n",
       "    .dataframe tbody tr th:only-of-type {\n",
       "        vertical-align: middle;\n",
       "    }\n",
       "\n",
       "    .dataframe tbody tr th {\n",
       "        vertical-align: top;\n",
       "    }\n",
       "\n",
       "    .dataframe thead th {\n",
       "        text-align: right;\n",
       "    }\n",
       "</style>\n",
       "<table border=\"1\" class=\"dataframe\">\n",
       "  <thead>\n",
       "    <tr style=\"text-align: right;\">\n",
       "      <th></th>\n",
       "      <th>Headlines</th>\n",
       "    </tr>\n",
       "  </thead>\n",
       "  <tbody>\n",
       "    <tr>\n",
       "      <th>0</th>\n",
       "      <td>Johnson is asking Santa for a Christmas recovery</td>\n",
       "    </tr>\n",
       "    <tr>\n",
       "      <th>1</th>\n",
       "      <td>‘I now fear the worst’: four grim tales of wor...</td>\n",
       "    </tr>\n",
       "    <tr>\n",
       "      <th>2</th>\n",
       "      <td>Five key areas Sunak must tackle to serve up e...</td>\n",
       "    </tr>\n",
       "    <tr>\n",
       "      <th>3</th>\n",
       "      <td>Covid-2019 leaves firms ‘fatally ill-prepared’...</td>\n",
       "    </tr>\n",
       "    <tr>\n",
       "      <th>4</th>\n",
       "      <td>The Week in Patriarchy  \\r\\n\\r\\n\\r\\n  Bacardi'...</td>\n",
       "    </tr>\n",
       "  </tbody>\n",
       "</table>\n",
       "</div>"
      ],
      "text/plain": [
       "                                           Headlines\n",
       "0   Johnson is asking Santa for a Christmas recovery\n",
       "1  ‘I now fear the worst’: four grim tales of wor...\n",
       "2  Five key areas Sunak must tackle to serve up e...\n",
       "3  Covid-2019 leaves firms ‘fatally ill-prepared’...\n",
       "4  The Week in Patriarchy  \\r\\n\\r\\n\\r\\n  Bacardi'..."
      ]
     },
     "execution_count": 40,
     "metadata": {},
     "output_type": "execute_result"
    }
   ],
   "source": [
    "review_df = df[['Headlines']]\n",
    "\n",
    "print(review_df.shape)\n",
    "review_df.head(5)"
   ]
  },
  {
   "cell_type": "code",
   "execution_count": 41,
   "id": "4cbb4d08",
   "metadata": {},
   "outputs": [],
   "source": [
    "first_row = df.head(1)\n",
    "\n",
    "last_row = df.tail(1)"
   ]
  },
  {
   "cell_type": "code",
   "execution_count": 42,
   "id": "e4ecff05",
   "metadata": {
    "scrolled": true
   },
   "outputs": [],
   "source": [
    "# Filter data within the specified time frame\n",
    "start_date = pd.to_datetime('2019-07-01')\n",
    "end_date = pd.to_datetime('2020-07-01')\n",
    "df_filtered = df[(df['Time'] >= start_date) & (df['Time'] <= end_date)]"
   ]
  },
  {
   "cell_type": "code",
   "execution_count": 43,
   "id": "64668ec1",
   "metadata": {},
   "outputs": [
    {
     "name": "stderr",
     "output_type": "stream",
     "text": [
      "C:\\Users\\baruchfrost\\AppData\\Local\\Temp\\ipykernel_25712\\2350247784.py:17: SettingWithCopyWarning: \n",
      "A value is trying to be set on a copy of a slice from a DataFrame.\n",
      "Try using .loc[row_indexer,col_indexer] = value instead\n",
      "\n",
      "See the caveats in the documentation: https://pandas.pydata.org/pandas-docs/stable/user_guide/indexing.html#returning-a-view-versus-a-copy\n",
      "  df_filtered['Sentiment Score'] = df_filtered['Headlines'].apply(analyze_sentiment)\n",
      "C:\\Users\\baruchfrost\\AppData\\Local\\Temp\\ipykernel_25712\\2350247784.py:19: SettingWithCopyWarning: \n",
      "A value is trying to be set on a copy of a slice from a DataFrame.\n",
      "Try using .loc[row_indexer,col_indexer] = value instead\n",
      "\n",
      "See the caveats in the documentation: https://pandas.pydata.org/pandas-docs/stable/user_guide/indexing.html#returning-a-view-versus-a-copy\n",
      "  df_filtered['Sentiment'] = df_filtered['Sentiment Score'].apply(sentiment_binning)\n"
     ]
    }
   ],
   "source": [
    "from textblob import TextBlob\n",
    "\n",
    "# Perform sentiment analysis on headlines\n",
    "def analyze_sentiment(text):\n",
    "    blob = TextBlob(text)\n",
    "    return blob.sentiment.polarity\n",
    "\n",
    "def sentiment_binning(sentiment):\n",
    "    if sentiment > 0:\n",
    "        return 'Positive'\n",
    "    elif sentiment < 0:\n",
    "        return 'Negative'\n",
    "    else:\n",
    "        return 'Neutral'\n",
    "\n",
    "# Apply sentiment analysis to filtered headlines\n",
    "df_filtered['Sentiment Score'] = df_filtered['Headlines'].apply(analyze_sentiment)\n",
    "\n",
    "df_filtered['Sentiment'] = df_filtered['Sentiment Score'].apply(sentiment_binning)"
   ]
  },
  {
   "cell_type": "code",
   "execution_count": 44,
   "id": "51b55596",
   "metadata": {},
   "outputs": [],
   "source": [
    "sentiment_score_data = df_filtered[[\"Time\", \"Sentiment Score\"]]\n",
    "sentiment_score_data.set_index(\"Time\", inplace=True)\n",
    "\n",
    "sentiment_score_data_by_day = sentiment_score_data.groupby(\"Time\")['Sentiment Score'].apply(list)\n",
    "\n",
    "numpy_sentiment_score_data_by_day = sentiment_score_data_by_day.to_numpy()\n",
    "\n",
    "raw_dates = sentiment_score_data_by_day.index.tolist()\n",
    "\n",
    "formatted_dates = []\n",
    "\n",
    "for date in raw_dates:\n",
    "    formatted_dates.append(date.strftime(\"%Y-%m-%d\"))\n"
   ]
  },
  {
   "cell_type": "code",
   "execution_count": 45,
   "id": "b05443b0",
   "metadata": {},
   "outputs": [
    {
     "data": {
      "image/png": "[encoded data removed]",
      "text/plain": [
       "<Figure size 640x480 with 1 Axes>"
      ]
     },
     "metadata": {},
     "output_type": "display_data"
    }
   ],
   "source": [
    "avg_sentiment = []\n",
    "\n",
    "for item in numpy_sentiment_score_data_by_day:\n",
    "    arr = np.array(item)\n",
    "\n",
    "    avg_sentiment.append(np.mean(arr))\n",
    "\n",
    "plt.plot(avg_sentiment[0:30])\n",
    "plt.xticks([x for x in range(0, len(formatted_dates[0:30]))], formatted_dates[0:30], rotation=90)\n",
    "plt.show()"
   ]
  },
  {
   "cell_type": "code",
   "execution_count": 46,
   "id": "cc5170d0",
   "metadata": {},
   "outputs": [],
   "source": [
    "news_sentiment_df = pd.DataFrame({\n",
    "    \"Sentiment\": avg_sentiment,\n",
    "    \"Date\": formatted_dates\n",
    "})\n",
    "\n",
    "news_sentiment_df.to_csv(\"./analysis result data/guardian_news_sentiment_data.csv\")"
   ]
  }
 ],
 "metadata": {
  "kernelspec": {
   "display_name": "Python 3 (ipykernel)",
   "language": "python",
   "name": "python3"
  },
  "language_info": {
   "codemirror_mode": {
    "name": "ipython",
    "version": 3
   },
   "file_extension": ".py",
   "mimetype": "text/x-python",
   "name": "python",
   "nbconvert_exporter": "python",
   "pygments_lexer": "ipython3",
   "version": "3.10.10"
  }
 },
 "nbformat": 4,
 "nbformat_minor": 5
}
