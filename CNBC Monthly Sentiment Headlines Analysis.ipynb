{
 "cells": [
  {
   "cell_type": "code",
   "execution_count": 1,
   "id": "6fd11fb7",
   "metadata": {},
   "outputs": [],
   "source": [
    "import pandas as pd\n",
    "import matplotlib.pyplot as plt\n",
    "\n",
    "df = pd.read_csv(\"archive/cnbc_headlines.csv\")"
   ]
  },
  {
   "cell_type": "code",
   "execution_count": 2,
   "id": "add72ea9",
   "metadata": {},
   "outputs": [
    {
     "data": {
      "text/html": [
       "<div>\n",
       "<style scoped>\n",
       "    .dataframe tbody tr th:only-of-type {\n",
       "        vertical-align: middle;\n",
       "    }\n",
       "\n",
       "    .dataframe tbody tr th {\n",
       "        vertical-align: top;\n",
       "    }\n",
       "\n",
       "    .dataframe thead th {\n",
       "        text-align: right;\n",
       "    }\n",
       "</style>\n",
       "<table border=\"1\" class=\"dataframe\">\n",
       "  <thead>\n",
       "    <tr style=\"text-align: right;\">\n",
       "      <th></th>\n",
       "      <th>Headlines</th>\n",
       "      <th>Time</th>\n",
       "      <th>Description</th>\n",
       "    </tr>\n",
       "  </thead>\n",
       "  <tbody>\n",
       "    <tr>\n",
       "      <th>0</th>\n",
       "      <td>Jim Cramer: A better way to invest in the Covi...</td>\n",
       "      <td>7:51  PM ET Fri, 17 July 2020</td>\n",
       "      <td>\"Mad Money\" host Jim Cramer recommended buying...</td>\n",
       "    </tr>\n",
       "    <tr>\n",
       "      <th>1</th>\n",
       "      <td>Cramer's lightning round: I would own Teradyne</td>\n",
       "      <td>7:33  PM ET Fri, 17 July 2020</td>\n",
       "      <td>\"Mad Money\" host Jim Cramer rings the lightnin...</td>\n",
       "    </tr>\n",
       "    <tr>\n",
       "      <th>2</th>\n",
       "      <td>NaN</td>\n",
       "      <td>NaN</td>\n",
       "      <td>NaN</td>\n",
       "    </tr>\n",
       "    <tr>\n",
       "      <th>3</th>\n",
       "      <td>Cramer's week ahead: Big week for earnings, ev...</td>\n",
       "      <td>7:25  PM ET Fri, 17 July 2020</td>\n",
       "      <td>\"We'll pay more for the earnings of the non-Co...</td>\n",
       "    </tr>\n",
       "    <tr>\n",
       "      <th>4</th>\n",
       "      <td>IQ Capital CEO Keith Bliss says tech and healt...</td>\n",
       "      <td>4:24  PM ET Fri, 17 July 2020</td>\n",
       "      <td>Keith Bliss, IQ Capital CEO, joins \"Closing Be...</td>\n",
       "    </tr>\n",
       "    <tr>\n",
       "      <th>5</th>\n",
       "      <td>Wall Street delivered the 'kind of pullback I'...</td>\n",
       "      <td>7:36  PM ET Thu, 16 July 2020</td>\n",
       "      <td>\"Look for the stocks of high-quality companies...</td>\n",
       "    </tr>\n",
       "    <tr>\n",
       "      <th>6</th>\n",
       "      <td>Cramer's lightning round: I would just stay lo...</td>\n",
       "      <td>7:23  PM ET Thu, 16 July 2020</td>\n",
       "      <td>\"Mad Money\" host Jim Cramer rings the lightnin...</td>\n",
       "    </tr>\n",
       "    <tr>\n",
       "      <th>7</th>\n",
       "      <td>Acorns CEO: Parents can turn $5 into five figu...</td>\n",
       "      <td>8:03  PM ET Thu, 16 July 2020</td>\n",
       "      <td>Investing $5 per day can compound to $70,000 b...</td>\n",
       "    </tr>\n",
       "    <tr>\n",
       "      <th>8</th>\n",
       "      <td>Dividend cuts may mean rethinking your retirem...</td>\n",
       "      <td>8:54  AM ET Thu, 16 July 2020</td>\n",
       "      <td>Hundreds of companies have cut or suspended th...</td>\n",
       "    </tr>\n",
       "    <tr>\n",
       "      <th>9</th>\n",
       "      <td>NaN</td>\n",
       "      <td>NaN</td>\n",
       "      <td>NaN</td>\n",
       "    </tr>\n",
       "  </tbody>\n",
       "</table>\n",
       "</div>"
      ],
      "text/plain": [
       "                                           Headlines   \n",
       "0  Jim Cramer: A better way to invest in the Covi...  \\\n",
       "1     Cramer's lightning round: I would own Teradyne   \n",
       "2                                                NaN   \n",
       "3  Cramer's week ahead: Big week for earnings, ev...   \n",
       "4  IQ Capital CEO Keith Bliss says tech and healt...   \n",
       "5  Wall Street delivered the 'kind of pullback I'...   \n",
       "6  Cramer's lightning round: I would just stay lo...   \n",
       "7  Acorns CEO: Parents can turn $5 into five figu...   \n",
       "8  Dividend cuts may mean rethinking your retirem...   \n",
       "9                                                NaN   \n",
       "\n",
       "                             Time   \n",
       "0   7:51  PM ET Fri, 17 July 2020  \\\n",
       "1   7:33  PM ET Fri, 17 July 2020   \n",
       "2                             NaN   \n",
       "3   7:25  PM ET Fri, 17 July 2020   \n",
       "4   4:24  PM ET Fri, 17 July 2020   \n",
       "5   7:36  PM ET Thu, 16 July 2020   \n",
       "6   7:23  PM ET Thu, 16 July 2020   \n",
       "7   8:03  PM ET Thu, 16 July 2020   \n",
       "8   8:54  AM ET Thu, 16 July 2020   \n",
       "9                             NaN   \n",
       "\n",
       "                                         Description  \n",
       "0  \"Mad Money\" host Jim Cramer recommended buying...  \n",
       "1  \"Mad Money\" host Jim Cramer rings the lightnin...  \n",
       "2                                                NaN  \n",
       "3  \"We'll pay more for the earnings of the non-Co...  \n",
       "4  Keith Bliss, IQ Capital CEO, joins \"Closing Be...  \n",
       "5  \"Look for the stocks of high-quality companies...  \n",
       "6  \"Mad Money\" host Jim Cramer rings the lightnin...  \n",
       "7  Investing $5 per day can compound to $70,000 b...  \n",
       "8  Hundreds of companies have cut or suspended th...  \n",
       "9                                                NaN  "
      ]
     },
     "execution_count": 2,
     "metadata": {},
     "output_type": "execute_result"
    }
   ],
   "source": [
    "df.head(10)"
   ]
  },
  {
   "cell_type": "code",
   "execution_count": 3,
   "id": "eb82b93c",
   "metadata": {},
   "outputs": [
    {
     "data": {
      "text/plain": [
       "Index(['Headlines', 'Time', 'Description'], dtype='object')"
      ]
     },
     "execution_count": 3,
     "metadata": {},
     "output_type": "execute_result"
    }
   ],
   "source": [
    "df.columns"
   ]
  },
  {
   "cell_type": "code",
   "execution_count": 4,
   "id": "686c5bd3",
   "metadata": {},
   "outputs": [
    {
     "name": "stdout",
     "output_type": "stream",
     "text": [
      "(3080, 1)\n"
     ]
    },
    {
     "data": {
      "text/html": [
       "<div>\n",
       "<style scoped>\n",
       "    .dataframe tbody tr th:only-of-type {\n",
       "        vertical-align: middle;\n",
       "    }\n",
       "\n",
       "    .dataframe tbody tr th {\n",
       "        vertical-align: top;\n",
       "    }\n",
       "\n",
       "    .dataframe thead th {\n",
       "        text-align: right;\n",
       "    }\n",
       "</style>\n",
       "<table border=\"1\" class=\"dataframe\">\n",
       "  <thead>\n",
       "    <tr style=\"text-align: right;\">\n",
       "      <th></th>\n",
       "      <th>Headlines</th>\n",
       "    </tr>\n",
       "  </thead>\n",
       "  <tbody>\n",
       "    <tr>\n",
       "      <th>0</th>\n",
       "      <td>Jim Cramer: A better way to invest in the Covi...</td>\n",
       "    </tr>\n",
       "    <tr>\n",
       "      <th>1</th>\n",
       "      <td>Cramer's lightning round: I would own Teradyne</td>\n",
       "    </tr>\n",
       "    <tr>\n",
       "      <th>2</th>\n",
       "      <td>NaN</td>\n",
       "    </tr>\n",
       "    <tr>\n",
       "      <th>3</th>\n",
       "      <td>Cramer's week ahead: Big week for earnings, ev...</td>\n",
       "    </tr>\n",
       "    <tr>\n",
       "      <th>4</th>\n",
       "      <td>IQ Capital CEO Keith Bliss says tech and healt...</td>\n",
       "    </tr>\n",
       "  </tbody>\n",
       "</table>\n",
       "</div>"
      ],
      "text/plain": [
       "                                           Headlines\n",
       "0  Jim Cramer: A better way to invest in the Covi...\n",
       "1     Cramer's lightning round: I would own Teradyne\n",
       "2                                                NaN\n",
       "3  Cramer's week ahead: Big week for earnings, ev...\n",
       "4  IQ Capital CEO Keith Bliss says tech and healt..."
      ]
     },
     "execution_count": 4,
     "metadata": {},
     "output_type": "execute_result"
    }
   ],
   "source": [
    "review_df = df[['Headlines']]\n",
    "\n",
    "print(review_df.shape)\n",
    "review_df.head(5)"
   ]
  },
  {
   "cell_type": "code",
   "execution_count": 5,
   "id": "4cbb4d08",
   "metadata": {},
   "outputs": [
    {
     "name": "stdout",
     "output_type": "stream",
     "text": [
      "                                           Headlines   \n",
      "0  Jim Cramer: A better way to invest in the Covi...  \\\n",
      "\n",
      "                             Time   \n",
      "0   7:51  PM ET Fri, 17 July 2020  \\\n",
      "\n",
      "                                         Description  \n",
      "0  \"Mad Money\" host Jim Cramer recommended buying...  \n",
      "                                              Headlines   \n",
      "3079  Cramer: Never buy a stock all at once — you'll...  \\\n",
      "\n",
      "                               Time   \n",
      "3079   6:52  PM ET Fri, 22 Dec 2017  \\\n",
      "\n",
      "                                            Description  \n",
      "3079  Jim Cramer doubled down on his key investing r...  \n"
     ]
    }
   ],
   "source": [
    "first_row = df.head(1)\n",
    "\n",
    "last_row = df. tail(1)\n",
    "\n",
    "print(first_row)\n",
    "\n",
    "print (last_row)"
   ]
  },
  {
   "cell_type": "code",
   "execution_count": 6,
   "id": "e4ecff05",
   "metadata": {
    "scrolled": true
   },
   "outputs": [
    {
     "name": "stderr",
     "output_type": "stream",
     "text": [
      "/Users/tiagorocha/opt/anaconda3/lib/python3.9/site-packages/dateutil/parser/_parser.py:1207: UnknownTimezoneWarning: tzname ET identified but not understood.  Pass `tzinfos` argument in order to correctly return a timezone-aware datetime.  In a future version, this will raise an exception.\n",
      "  warnings.warn(\"tzname {tzname} identified but not understood.  \"\n",
      "/var/folders/ms/f642sm1j05dg1xy8j5xk2p580000gn/T/ipykernel_79736/2853659501.py:2: UserWarning: Could not infer format, so each element will be parsed individually, falling back to `dateutil`. To ensure parsing is consistent and as-expected, please specify a format.\n",
      "  df['Time'] = pd.to_datetime(df['Time'])\n"
     ]
    }
   ],
   "source": [
    "# Convert 'Time' column to datetime\n",
    "df['Time'] = pd.to_datetime(df['Time'])\n",
    "\n",
    "# Filter data within the specified time frame\n",
    "start_date = pd.to_datetime('2017-07-01')\n",
    "end_date = pd.to_datetime('2020-07-31')\n",
    "df_filtered = df[(df['Time'] >= start_date) & (df['Time'] <= end_date)]"
   ]
  },
  {
   "cell_type": "code",
   "execution_count": 7,
   "id": "64668ec1",
   "metadata": {},
   "outputs": [
    {
     "name": "stderr",
     "output_type": "stream",
     "text": [
      "/var/folders/ms/f642sm1j05dg1xy8j5xk2p580000gn/T/ipykernel_79736/717215587.py:15: SettingWithCopyWarning: \n",
      "A value is trying to be set on a copy of a slice from a DataFrame.\n",
      "Try using .loc[row_indexer,col_indexer] = value instead\n",
      "\n",
      "See the caveats in the documentation: https://pandas.pydata.org/pandas-docs/stable/user_guide/indexing.html#returning-a-view-versus-a-copy\n",
      "  df_filtered['Sentiment'] = df_filtered['Headlines'].apply(analyze_sentiment)\n"
     ]
    }
   ],
   "source": [
    "from textblob import TextBlob\n",
    "\n",
    "# Perform sentiment analysis on headlines\n",
    "def analyze_sentiment(text):\n",
    "    blob = TextBlob(text)\n",
    "    sentiment = blob.sentiment.polarity\n",
    "    if sentiment > 0:\n",
    "        return 'Positive'\n",
    "    elif sentiment < 0:\n",
    "        return 'Negative'\n",
    "    else:\n",
    "        return 'Neutral'\n",
    "\n",
    "# Apply sentiment analysis to filtered headlines\n",
    "df_filtered['Sentiment'] = df_filtered['Headlines'].apply(analyze_sentiment)"
   ]
  },
  {
   "cell_type": "code",
   "execution_count": 11,
   "id": "8bd1590f",
   "metadata": {},
   "outputs": [
    {
     "data": {
      "image/png": "[encoded data removed]",
      "text/plain": [
       "<Figure size 1200x600 with 1 Axes>"
      ]
     },
     "metadata": {},
     "output_type": "display_data"
    }
   ],
   "source": [
    "# Group by month and calculate sentiment distribution\n",
    "df_sentiment_by_month = df_filtered.groupby(df_filtered['Time'].dt.to_period('M'))['Sentiment'].value_counts().unstack().fillna(0)\n",
    "\n",
    "# Create grouped bar plot for sentiment distribution\n",
    "plt.figure(figsize=(12, 6))\n",
    "bar_width = 0.2\n",
    "x = range(len(df_sentiment_by_month.index))\n",
    "for i, sentiment in enumerate(df_sentiment_by_month.columns):\n",
    "    plt.bar(x=[pos + bar_width * i for pos in x],\n",
    "            height=df_sentiment_by_month[sentiment],\n",
    "            width=bar_width,\n",
    "            label=sentiment)\n",
    "\n",
    "plt.xlabel('Month')\n",
    "plt.ylabel('Count')\n",
    "plt.title('Sentiment Distribution of Headlines Over Time (December 2017 - July 2020)')\n",
    "plt.legend(title='Sentiment', loc='upper right')\n",
    "plt.xticks(x, df_sentiment_by_month.index.astype(str), rotation=45)\n",
    "plt.show()"
   ]
  },
  {
   "cell_type": "code",
   "execution_count": null,
   "id": "51b55596",
   "metadata": {},
   "outputs": [],
   "source": []
  }
 ],
 "metadata": {
  "kernelspec": {
   "display_name": "Python 3 (ipykernel)",
   "language": "python",
   "name": "python3"
  },
  "language_info": {
   "codemirror_mode": {
    "name": "ipython",
    "version": 3
   },
   "file_extension": ".py",
   "mimetype": "text/x-python",
   "name": "python",
   "nbconvert_exporter": "python",
   "pygments_lexer": "ipython3",
   "version": "3.9.13"
  }
 },
 "nbformat": 4,
 "nbformat_minor": 5
}
