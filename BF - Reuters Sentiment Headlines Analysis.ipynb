{
 "cells": [
  {
   "cell_type": "code",
   "execution_count": 1,
   "id": "6fd11fb7",
   "metadata": {},
   "outputs": [],
   "source": [
    "import pandas as pd\n",
    "import matplotlib.pyplot as plt\n",
    "import numpy as np\n",
    "\n",
    "df = pd.read_csv(\"./archive/reuters_headlines.csv\")\n",
    "\n",
    "# Convert 'Time' column to datetime\n",
    "df['Time'] = pd.to_datetime(df['Time'])"
   ]
  },
  {
   "cell_type": "code",
   "execution_count": 2,
   "id": "add72ea9",
   "metadata": {},
   "outputs": [
    {
     "data": {
      "text/html": [
       "<div>\n",
       "<style scoped>\n",
       "    .dataframe tbody tr th:only-of-type {\n",
       "        vertical-align: middle;\n",
       "    }\n",
       "\n",
       "    .dataframe tbody tr th {\n",
       "        vertical-align: top;\n",
       "    }\n",
       "\n",
       "    .dataframe thead th {\n",
       "        text-align: right;\n",
       "    }\n",
       "</style>\n",
       "<table border=\"1\" class=\"dataframe\">\n",
       "  <thead>\n",
       "    <tr style=\"text-align: right;\">\n",
       "      <th></th>\n",
       "      <th>Headlines</th>\n",
       "      <th>Time</th>\n",
       "      <th>Description</th>\n",
       "    </tr>\n",
       "  </thead>\n",
       "  <tbody>\n",
       "    <tr>\n",
       "      <th>0</th>\n",
       "      <td>TikTok considers London and other locations fo...</td>\n",
       "      <td>2020-07-18</td>\n",
       "      <td>TikTok has been in discussions with the UK gov...</td>\n",
       "    </tr>\n",
       "    <tr>\n",
       "      <th>1</th>\n",
       "      <td>Disney cuts ad spending on Facebook amid growi...</td>\n",
       "      <td>2020-07-18</td>\n",
       "      <td>Walt Disney  has become the latest company to ...</td>\n",
       "    </tr>\n",
       "    <tr>\n",
       "      <th>2</th>\n",
       "      <td>Trail of missing Wirecard executive leads to B...</td>\n",
       "      <td>2020-07-18</td>\n",
       "      <td>Former Wirecard  chief operating officer Jan M...</td>\n",
       "    </tr>\n",
       "    <tr>\n",
       "      <th>3</th>\n",
       "      <td>Twitter says attackers downloaded data from up...</td>\n",
       "      <td>2020-07-18</td>\n",
       "      <td>Twitter Inc said on Saturday that hackers were...</td>\n",
       "    </tr>\n",
       "    <tr>\n",
       "      <th>4</th>\n",
       "      <td>U.S. Republicans seek liability protections as...</td>\n",
       "      <td>2020-07-17</td>\n",
       "      <td>A battle in the U.S. Congress over a new coron...</td>\n",
       "    </tr>\n",
       "    <tr>\n",
       "      <th>5</th>\n",
       "      <td>Wall Street Week Ahead: Fund managers navigate...</td>\n",
       "      <td>2020-07-17</td>\n",
       "      <td>Investors are searching for bargains in the wo...</td>\n",
       "    </tr>\n",
       "    <tr>\n",
       "      <th>6</th>\n",
       "      <td>Take Five: Hoping for that V-shape in earnings</td>\n",
       "      <td>2020-07-17</td>\n",
       "      <td>We knew Q2 earnings would be dire but the hope...</td>\n",
       "    </tr>\n",
       "    <tr>\n",
       "      <th>7</th>\n",
       "      <td>Evictions nearly back to pre-pandemic levels i...</td>\n",
       "      <td>2020-07-17</td>\n",
       "      <td>Landlords in some areas of the United States a...</td>\n",
       "    </tr>\n",
       "    <tr>\n",
       "      <th>8</th>\n",
       "      <td>Google bans ads on coronavirus conspiracy theo...</td>\n",
       "      <td>2020-07-17</td>\n",
       "      <td>Alphabet Inc's Google said on Friday it would ...</td>\n",
       "    </tr>\n",
       "    <tr>\n",
       "      <th>9</th>\n",
       "      <td>Flight to suburbs boosts U.S. homebuilding, bu...</td>\n",
       "      <td>2020-07-17</td>\n",
       "      <td>U.S. homebuilding increased in June by the mos...</td>\n",
       "    </tr>\n",
       "  </tbody>\n",
       "</table>\n",
       "</div>"
      ],
      "text/plain": [
       "                                           Headlines       Time  \\\n",
       "0  TikTok considers London and other locations fo... 2020-07-18   \n",
       "1  Disney cuts ad spending on Facebook amid growi... 2020-07-18   \n",
       "2  Trail of missing Wirecard executive leads to B... 2020-07-18   \n",
       "3  Twitter says attackers downloaded data from up... 2020-07-18   \n",
       "4  U.S. Republicans seek liability protections as... 2020-07-17   \n",
       "5  Wall Street Week Ahead: Fund managers navigate... 2020-07-17   \n",
       "6     Take Five: Hoping for that V-shape in earnings 2020-07-17   \n",
       "7  Evictions nearly back to pre-pandemic levels i... 2020-07-17   \n",
       "8  Google bans ads on coronavirus conspiracy theo... 2020-07-17   \n",
       "9  Flight to suburbs boosts U.S. homebuilding, bu... 2020-07-17   \n",
       "\n",
       "                                         Description  \n",
       "0  TikTok has been in discussions with the UK gov...  \n",
       "1  Walt Disney  has become the latest company to ...  \n",
       "2  Former Wirecard  chief operating officer Jan M...  \n",
       "3  Twitter Inc said on Saturday that hackers were...  \n",
       "4  A battle in the U.S. Congress over a new coron...  \n",
       "5  Investors are searching for bargains in the wo...  \n",
       "6  We knew Q2 earnings would be dire but the hope...  \n",
       "7  Landlords in some areas of the United States a...  \n",
       "8  Alphabet Inc's Google said on Friday it would ...  \n",
       "9  U.S. homebuilding increased in June by the mos...  "
      ]
     },
     "execution_count": 2,
     "metadata": {},
     "output_type": "execute_result"
    }
   ],
   "source": [
    "df.head(10)"
   ]
  },
  {
   "cell_type": "code",
   "execution_count": 4,
   "id": "686c5bd3",
   "metadata": {},
   "outputs": [
    {
     "name": "stdout",
     "output_type": "stream",
     "text": [
      "(32770, 1)\n"
     ]
    },
    {
     "data": {
      "text/html": [
       "<div>\n",
       "<style scoped>\n",
       "    .dataframe tbody tr th:only-of-type {\n",
       "        vertical-align: middle;\n",
       "    }\n",
       "\n",
       "    .dataframe tbody tr th {\n",
       "        vertical-align: top;\n",
       "    }\n",
       "\n",
       "    .dataframe thead th {\n",
       "        text-align: right;\n",
       "    }\n",
       "</style>\n",
       "<table border=\"1\" class=\"dataframe\">\n",
       "  <thead>\n",
       "    <tr style=\"text-align: right;\">\n",
       "      <th></th>\n",
       "      <th>Headlines</th>\n",
       "    </tr>\n",
       "  </thead>\n",
       "  <tbody>\n",
       "    <tr>\n",
       "      <th>0</th>\n",
       "      <td>TikTok considers London and other locations fo...</td>\n",
       "    </tr>\n",
       "    <tr>\n",
       "      <th>1</th>\n",
       "      <td>Disney cuts ad spending on Facebook amid growi...</td>\n",
       "    </tr>\n",
       "    <tr>\n",
       "      <th>2</th>\n",
       "      <td>Trail of missing Wirecard executive leads to B...</td>\n",
       "    </tr>\n",
       "    <tr>\n",
       "      <th>3</th>\n",
       "      <td>Twitter says attackers downloaded data from up...</td>\n",
       "    </tr>\n",
       "    <tr>\n",
       "      <th>4</th>\n",
       "      <td>U.S. Republicans seek liability protections as...</td>\n",
       "    </tr>\n",
       "  </tbody>\n",
       "</table>\n",
       "</div>"
      ],
      "text/plain": [
       "                                           Headlines\n",
       "0  TikTok considers London and other locations fo...\n",
       "1  Disney cuts ad spending on Facebook amid growi...\n",
       "2  Trail of missing Wirecard executive leads to B...\n",
       "3  Twitter says attackers downloaded data from up...\n",
       "4  U.S. Republicans seek liability protections as..."
      ]
     },
     "execution_count": 4,
     "metadata": {},
     "output_type": "execute_result"
    }
   ],
   "source": [
    "review_df = df[['Headlines']]\n",
    "\n",
    "print(review_df.shape)\n",
    "review_df.head(5)"
   ]
  },
  {
   "cell_type": "code",
   "execution_count": 6,
   "id": "e4ecff05",
   "metadata": {
    "scrolled": true
   },
   "outputs": [],
   "source": [
    "# Filter data within the specified time frame\n",
    "start_date = pd.to_datetime('2019-07-01')\n",
    "end_date = pd.to_datetime('2020-07-01')\n",
    "df_filtered = df[(df['Time'] >= start_date) & (df['Time'] <= end_date)]"
   ]
  },
  {
   "cell_type": "code",
   "execution_count": 7,
   "id": "64668ec1",
   "metadata": {},
   "outputs": [
    {
     "name": "stderr",
     "output_type": "stream",
     "text": [
      "C:\\Users\\baruchfrost\\AppData\\Local\\Temp\\ipykernel_23712\\2350247784.py:17: SettingWithCopyWarning: \n",
      "A value is trying to be set on a copy of a slice from a DataFrame.\n",
      "Try using .loc[row_indexer,col_indexer] = value instead\n",
      "\n",
      "See the caveats in the documentation: https://pandas.pydata.org/pandas-docs/stable/user_guide/indexing.html#returning-a-view-versus-a-copy\n",
      "  df_filtered['Sentiment Score'] = df_filtered['Headlines'].apply(analyze_sentiment)\n",
      "C:\\Users\\baruchfrost\\AppData\\Local\\Temp\\ipykernel_23712\\2350247784.py:19: SettingWithCopyWarning: \n",
      "A value is trying to be set on a copy of a slice from a DataFrame.\n",
      "Try using .loc[row_indexer,col_indexer] = value instead\n",
      "\n",
      "See the caveats in the documentation: https://pandas.pydata.org/pandas-docs/stable/user_guide/indexing.html#returning-a-view-versus-a-copy\n",
      "  df_filtered['Sentiment'] = df_filtered['Sentiment Score'].apply(sentiment_binning)\n"
     ]
    }
   ],
   "source": [
    "from textblob import TextBlob\n",
    "\n",
    "# Perform sentiment analysis on headlines\n",
    "def analyze_sentiment(text):\n",
    "    blob = TextBlob(text)\n",
    "    return blob.sentiment.polarity\n",
    "\n",
    "def sentiment_binning(sentiment):\n",
    "    if sentiment > 0:\n",
    "        return 'Positive'\n",
    "    elif sentiment < 0:\n",
    "        return 'Negative'\n",
    "    else:\n",
    "        return 'Neutral'\n",
    "\n",
    "# Apply sentiment analysis to filtered headlines\n",
    "df_filtered['Sentiment Score'] = df_filtered['Headlines'].apply(analyze_sentiment)\n",
    "\n",
    "df_filtered['Sentiment'] = df_filtered['Sentiment Score'].apply(sentiment_binning)"
   ]
  },
  {
   "cell_type": "code",
   "execution_count": 10,
   "id": "51b55596",
   "metadata": {},
   "outputs": [],
   "source": [
    "sentiment_score_data = df_filtered[[\"Time\", \"Sentiment Score\"]]\n",
    "sentiment_score_data.set_index(\"Time\", inplace=True)\n",
    "\n",
    "sentiment_score_data_by_day = sentiment_score_data.groupby(\"Time\")['Sentiment Score'].apply(list)\n",
    "\n",
    "numpy_sentiment_score_data_by_day = sentiment_score_data_by_day.to_numpy()\n",
    "\n",
    "raw_dates = sentiment_score_data_by_day.index.tolist()\n",
    "\n",
    "formatted_dates = []\n",
    "\n",
    "for date in raw_dates:\n",
    "    formatted_dates.append(date.strftime(\"%Y-%m-%d\"))\n"
   ]
  },
  {
   "cell_type": "code",
   "execution_count": 11,
   "id": "b05443b0",
   "metadata": {},
   "outputs": [
    {
     "data": {
      "image/png": "[encoded data removed]",
      "text/plain": [
       "<Figure size 640x480 with 1 Axes>"
      ]
     },
     "metadata": {},
     "output_type": "display_data"
    }
   ],
   "source": [
    "avg_sentiment = []\n",
    "\n",
    "for item in numpy_sentiment_score_data_by_day:\n",
    "    arr = np.array(item)\n",
    "\n",
    "    avg_sentiment.append(np.mean(arr))\n",
    "\n",
    "plt.plot(avg_sentiment[0:30])\n",
    "plt.xticks([x for x in range(0, len(formatted_dates[0:30]))], formatted_dates[0:30], rotation=90)\n",
    "plt.show()"
   ]
  },
  {
   "cell_type": "code",
   "execution_count": 12,
   "id": "cc5170d0",
   "metadata": {},
   "outputs": [],
   "source": [
    "news_sentiment_df = pd.DataFrame({\n",
    "    \"Sentiment\": avg_sentiment,\n",
    "    \"Date\": formatted_dates\n",
    "})\n",
    "\n",
    "news_sentiment_df.to_csv(\"./analysis result data/reuters_news_sentiment_data.csv\")"
   ]
  }
 ],
 "metadata": {
  "kernelspec": {
   "display_name": "Python 3 (ipykernel)",
   "language": "python",
   "name": "python3"
  },
  "language_info": {
   "codemirror_mode": {
    "name": "ipython",
    "version": 3
   },
   "file_extension": ".py",
   "mimetype": "text/x-python",
   "name": "python",
   "nbconvert_exporter": "python",
   "pygments_lexer": "ipython3",
   "version": "3.10.10"
  }
 },
 "nbformat": 4,
 "nbformat_minor": 5
}
