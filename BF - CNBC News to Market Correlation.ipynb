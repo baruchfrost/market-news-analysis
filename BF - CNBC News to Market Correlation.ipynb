{
 "cells": [
  {
   "cell_type": "code",
   "execution_count": 1,
   "metadata": {},
   "outputs": [],
   "source": [
    "import pandas as pd\n",
    "import numpy as np\n",
    "import matplotlib.pyplot as plt\n",
    "import tqdm"
   ]
  },
  {
   "cell_type": "code",
   "execution_count": 9,
   "metadata": {},
   "outputs": [
    {
     "data": {
      "text/plain": [
       "(1066, 3)"
      ]
     },
     "execution_count": 9,
     "metadata": {},
     "output_type": "execute_result"
    }
   ],
   "source": [
    "news_df = pd.read_csv(\"./analysis result data/cnbc_news_sentiment_data.csv\")"
   ]
  },
  {
   "cell_type": "code",
   "execution_count": 3,
   "metadata": {},
   "outputs": [],
   "source": [
    "dji_df = pd.read_csv(\"./daily data/DOW.csv\")\n",
    "\n",
    "dji_df['Date (Datetime)'] = pd.to_datetime(dji_df['Date'])\n",
    "\n",
    "start_date = pd.Timestamp('2019-07-01')\n",
    "end_date = pd.Timestamp('2020-07-01')\n",
    "dji_df = dji_df[(dji_df['Date (Datetime)'] >= start_date) & (dji_df['Date (Datetime)'] < end_date)]\n",
    "\n",
    "dji_df.drop(columns=[\"Date (Datetime)\"], inplace=True)"
   ]
  },
  {
   "cell_type": "code",
   "execution_count": 4,
   "metadata": {},
   "outputs": [],
   "source": [
    "dji_df[\"Sentiment\"] = news_df[\"Sentiment\"]\n",
    "dji_df[\"Change\"] = dji_df[\"Close\"] - dji_df[\"Open\"]"
   ]
  },
  {
   "cell_type": "code",
   "execution_count": 5,
   "metadata": {},
   "outputs": [],
   "source": [
    "dji_df.set_index(\"Date\", inplace=True)"
   ]
  },
  {
   "cell_type": "code",
   "execution_count": 6,
   "metadata": {},
   "outputs": [],
   "source": [
    "chunkized = np.array_split(dji_df, 8)\n",
    "\n",
    "best_shifts = []\n",
    "best_spans = []\n",
    "best_correlations = []\n",
    "best_mean_correlation = 0"
   ]
  },
  {
   "cell_type": "code",
   "execution_count": 7,
   "metadata": {},
   "outputs": [
    {
     "name": "stderr",
     "output_type": "stream",
     "text": [
      "  0%|          | 0/12 [00:00<?, ?it/s]"
     ]
    },
    {
     "name": "stderr",
     "output_type": "stream",
     "text": [
      " 75%|███████▌  | 9/12 [00:28<00:12,  4.27s/it]c:\\Users\\baruchfrost\\Anaconda3\\envs\\dev\\lib\\site-packages\\scipy\\stats\\_stats_py.py:4916: ConstantInputWarning: An input array is constant; the correlation coefficient is not defined.\n",
      "  warnings.warn(stats.ConstantInputWarning(warn_msg))\n",
      "c:\\Users\\baruchfrost\\Anaconda3\\envs\\dev\\lib\\site-packages\\scipy\\stats\\_stats_py.py:4916: ConstantInputWarning: An input array is constant; the correlation coefficient is not defined.\n",
      "  warnings.warn(stats.ConstantInputWarning(warn_msg))\n",
      " 92%|█████████▏| 11/12 [00:40<00:05,  5.33s/it]c:\\Users\\baruchfrost\\Anaconda3\\envs\\dev\\lib\\site-packages\\scipy\\stats\\_stats_py.py:4916: ConstantInputWarning: An input array is constant; the correlation coefficient is not defined.\n",
      "  warnings.warn(stats.ConstantInputWarning(warn_msg))\n",
      "c:\\Users\\baruchfrost\\Anaconda3\\envs\\dev\\lib\\site-packages\\scipy\\stats\\_stats_py.py:4916: ConstantInputWarning: An input array is constant; the correlation coefficient is not defined.\n",
      "  warnings.warn(stats.ConstantInputWarning(warn_msg))\n",
      "100%|██████████| 12/12 [00:47<00:00,  3.95s/it]\n"
     ]
    }
   ],
   "source": [
    "for i in tqdm.tqdm(range(1, 13)):\n",
    "    chunkized = np.array_split(dji_df, i)\n",
    "    best_shifts_in_chunk = [0] * i\n",
    "    best_spans_in_chunk = [0] * i\n",
    "    best_correlations_in_chunk = [0] * i\n",
    "\n",
    "    for i, chunk in enumerate(chunkized):\n",
    "        for span in range(0, 91):\n",
    "            for shift in range(0, 11):\n",
    "                chunk[\"Transformed Sentiment\"] = chunk[\"Sentiment\"].shift(shift)\n",
    "                if span != 0:\n",
    "                    chunk[\"Transformed Sentiment\"] = chunk[\"Transformed Sentiment\"].ewm(span=span).mean()\n",
    "                corr = chunk[\"Transformed Sentiment\"].corr(chunk[\"Change\"], method=\"spearman\")\n",
    "                if corr > best_correlations_in_chunk[i]:\n",
    "                    best_correlations_in_chunk[i] = corr\n",
    "                    best_shifts_in_chunk[i] = shift\n",
    "                    best_spans_in_chunk[i] = span\n",
    "\n",
    "    if np.min(best_correlations_in_chunk) > best_mean_correlation:\n",
    "        best_shifts = best_shifts_in_chunk\n",
    "        best_spans = best_spans_in_chunk\n",
    "        best_correlations = best_correlations_in_chunk\n"
   ]
  },
  {
   "cell_type": "code",
   "execution_count": 8,
   "metadata": {},
   "outputs": [
    {
     "data": {
      "image/png": "[encoded data removed]",
      "text/plain": [
       "<Figure size 640x480 with 1 Axes>"
      ]
     },
     "metadata": {},
     "output_type": "display_data"
    },
    {
     "name": "stdout",
     "output_type": "stream",
     "text": [
      "Optimal Correlations\n",
      "[0.9999999999999999, 0.9999999999999999, 0.4472135954999579, 0.9999999999999999, 0.9999999999999999, 0.8720815992723809, 1.0, 0.9999999999999999, 1.0, 0.9999999999999999, 0.9999999999999999, 0.9999999999999999]\n",
      "-----------------------------------------------------------\n",
      "Optimal Shifts (how many days back are we looking?)\n",
      "[9, 9, 6, 9, 9, 5, 7, 8, 7, 8, 8, 8]\n",
      "------------------------------------------------------------\n",
      "Optimal EMA Spans\n",
      "[0, 0, 0, 0, 0, 0, 0, 0, 0, 0, 0, 0]\n"
     ]
    }
   ],
   "source": [
    "plt.plot(best_correlations_in_chunk)\n",
    "plt.xticks(range(0, len(best_correlations)), range(1, len(best_correlations)+1))\n",
    "plt.ylabel(\"Correlation\")\n",
    "plt.xlabel(\"Chunk\")\n",
    "plt.show()\n",
    "print(\"Optimal Correlations\")\n",
    "print(best_correlations_in_chunk)\n",
    "print(\"-----------------------------------------------------------\")\n",
    "print(\"Optimal Shifts (how many days back are we looking?)\")\n",
    "print(best_shifts_in_chunk)\n",
    "print(\"------------------------------------------------------------\")\n",
    "print(\"Optimal EMA Spans\")\n",
    "print(best_spans_in_chunk)"
   ]
  }
 ],
 "metadata": {
  "kernelspec": {
   "display_name": "Python 3",
   "language": "python",
   "name": "python3"
  },
  "language_info": {
   "codemirror_mode": {
    "name": "ipython",
    "version": 3
   },
   "file_extension": ".py",
   "mimetype": "text/x-python",
   "name": "python",
   "nbconvert_exporter": "python",
   "pygments_lexer": "ipython3",
   "version": "3.10.10"
  },
  "orig_nbformat": 4
 },
 "nbformat": 4,
 "nbformat_minor": 2
}
