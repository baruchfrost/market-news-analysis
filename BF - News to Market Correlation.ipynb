{
 "cells": [
  {
   "cell_type": "code",
   "execution_count": 189,
   "metadata": {},
   "outputs": [],
   "source": [
    "import pandas as pd\n",
    "import numpy as np\n",
    "import matplotlib.pyplot as plt\n",
    "import tqdm"
   ]
  },
  {
   "cell_type": "code",
   "execution_count": 190,
   "metadata": {},
   "outputs": [
    {
     "name": "stderr",
     "output_type": "stream",
     "text": [
      "C:\\Users\\baruchfrost\\AppData\\Local\\Temp\\ipykernel_2792\\3513426556.py:10: FutureWarning: Dropping of nuisance columns in DataFrame reductions (with 'numeric_only=None') is deprecated; in a future version this will raise TypeError.  Select only valid columns before calling the reduction.\n",
      "  news_df[\"Sentiment\"] = news_df.mean(axis=1)\n"
     ]
    },
    {
     "data": {
      "text/html": [
       "<div>\n",
       "<style scoped>\n",
       "    .dataframe tbody tr th:only-of-type {\n",
       "        vertical-align: middle;\n",
       "    }\n",
       "\n",
       "    .dataframe tbody tr th {\n",
       "        vertical-align: top;\n",
       "    }\n",
       "\n",
       "    .dataframe thead th {\n",
       "        text-align: right;\n",
       "    }\n",
       "</style>\n",
       "<table border=\"1\" class=\"dataframe\">\n",
       "  <thead>\n",
       "    <tr style=\"text-align: right;\">\n",
       "      <th></th>\n",
       "      <th>Date</th>\n",
       "      <th>Sentiment</th>\n",
       "    </tr>\n",
       "  </thead>\n",
       "  <tbody>\n",
       "    <tr>\n",
       "      <th>0</th>\n",
       "      <td>2019-07-01</td>\n",
       "      <td>0.047269</td>\n",
       "    </tr>\n",
       "    <tr>\n",
       "      <th>1</th>\n",
       "      <td>2019-07-02</td>\n",
       "      <td>0.035393</td>\n",
       "    </tr>\n",
       "    <tr>\n",
       "      <th>2</th>\n",
       "      <td>2019-07-08</td>\n",
       "      <td>0.049285</td>\n",
       "    </tr>\n",
       "    <tr>\n",
       "      <th>3</th>\n",
       "      <td>2019-07-09</td>\n",
       "      <td>0.051902</td>\n",
       "    </tr>\n",
       "    <tr>\n",
       "      <th>4</th>\n",
       "      <td>2019-07-10</td>\n",
       "      <td>0.052582</td>\n",
       "    </tr>\n",
       "    <tr>\n",
       "      <th>...</th>\n",
       "      <td>...</td>\n",
       "      <td>...</td>\n",
       "    </tr>\n",
       "    <tr>\n",
       "      <th>251</th>\n",
       "      <td>2020-06-25</td>\n",
       "      <td>-0.021083</td>\n",
       "    </tr>\n",
       "    <tr>\n",
       "      <th>252</th>\n",
       "      <td>2020-06-26</td>\n",
       "      <td>0.088692</td>\n",
       "    </tr>\n",
       "    <tr>\n",
       "      <th>253</th>\n",
       "      <td>2020-06-29</td>\n",
       "      <td>0.019711</td>\n",
       "    </tr>\n",
       "    <tr>\n",
       "      <th>254</th>\n",
       "      <td>2020-06-30</td>\n",
       "      <td>0.038572</td>\n",
       "    </tr>\n",
       "    <tr>\n",
       "      <th>255</th>\n",
       "      <td>2020-07-01</td>\n",
       "      <td>-0.008319</td>\n",
       "    </tr>\n",
       "  </tbody>\n",
       "</table>\n",
       "<p>256 rows × 2 columns</p>\n",
       "</div>"
      ],
      "text/plain": [
       "           Date  Sentiment\n",
       "0    2019-07-01   0.047269\n",
       "1    2019-07-02   0.035393\n",
       "2    2019-07-08   0.049285\n",
       "3    2019-07-09   0.051902\n",
       "4    2019-07-10   0.052582\n",
       "..          ...        ...\n",
       "251  2020-06-25  -0.021083\n",
       "252  2020-06-26   0.088692\n",
       "253  2020-06-29   0.019711\n",
       "254  2020-06-30   0.038572\n",
       "255  2020-07-01  -0.008319\n",
       "\n",
       "[256 rows x 2 columns]"
      ]
     },
     "execution_count": 190,
     "metadata": {},
     "output_type": "execute_result"
    }
   ],
   "source": [
    "cnbc_news_df = pd.read_csv(\"./analysis result data/cnbc_news_sentiment_data.csv\")\n",
    "reuters_news_df = pd.read_csv(\"./analysis result data/reuters_news_sentiment_data.csv\")\n",
    "guardian_news_df = pd.read_csv(\"./analysis result data/guardian_news_sentiment_data.csv\")\n",
    "\n",
    "news_df = pd.DataFrame()\n",
    "news_df[\"Date\"] = cnbc_news_df[\"Date\"]\n",
    "news_df[\"cnbc\"] = cnbc_news_df[\"Sentiment\"]\n",
    "news_df[\"reuters\"] = reuters_news_df[\"Sentiment\"]\n",
    "news_df[\"guardian\"] = guardian_news_df[\"Sentiment\"]\n",
    "news_df[\"Sentiment\"] = news_df.mean(axis=1)\n",
    "news_df.drop(columns=[\"cnbc\", \"reuters\", \"guardian\"])"
   ]
  },
  {
   "cell_type": "code",
   "execution_count": 191,
   "metadata": {},
   "outputs": [],
   "source": [
    "dji_df = pd.read_csv(\"./daily data/DOW.csv\")\n",
    "\n",
    "dji_df['Date (Datetime)'] = pd.to_datetime(dji_df['Date'])\n",
    "\n",
    "start_date = pd.Timestamp('2019-07-01')\n",
    "end_date = pd.Timestamp('2020-07-01')\n",
    "dji_df = dji_df[(dji_df['Date (Datetime)'] >= start_date) & (dji_df['Date (Datetime)'] < end_date)]\n",
    "\n",
    "dji_df.drop(columns=[\"Date (Datetime)\"], inplace=True)"
   ]
  },
  {
   "cell_type": "code",
   "execution_count": 192,
   "metadata": {},
   "outputs": [],
   "source": [
    "dji_df[\"Sentiment\"] = news_df[\"Sentiment\"]\n",
    "dji_df[\"Change\"] = dji_df[\"Close\"] - dji_df[\"Open\"]"
   ]
  },
  {
   "cell_type": "code",
   "execution_count": 193,
   "metadata": {},
   "outputs": [],
   "source": [
    "dji_df.set_index(\"Date\", inplace=True)"
   ]
  },
  {
   "cell_type": "code",
   "execution_count": 194,
   "metadata": {},
   "outputs": [],
   "source": [
    "chunkized = np.array_split(dji_df, 8)\n",
    "\n",
    "best_shifts = []\n",
    "best_spans = []\n",
    "best_correlations = []\n",
    "best_mean_correlation = 0"
   ]
  },
  {
   "cell_type": "code",
   "execution_count": 195,
   "metadata": {},
   "outputs": [
    {
     "name": "stderr",
     "output_type": "stream",
     "text": [
      "100%|██████████| 12/12 [00:49<00:00,  4.11s/it]\n"
     ]
    }
   ],
   "source": [
    "for i in tqdm.tqdm(range(1, 13)):\n",
    "    chunkized = np.array_split(dji_df, i)\n",
    "    best_shifts_in_chunk = [0] * i\n",
    "    best_spans_in_chunk = [0] * i\n",
    "    best_correlations_in_chunk = [0] * i\n",
    "\n",
    "    for i, chunk in enumerate(chunkized):\n",
    "        for span in range(0, 91):\n",
    "            for shift in range(0, 11):\n",
    "                chunk[\"Transformed Sentiment\"] = chunk[\"Sentiment\"].shift(shift)\n",
    "                if span != 0:\n",
    "                    chunk[\"Transformed Sentiment\"] = chunk[\"Transformed Sentiment\"].ewm(span=span).mean()\n",
    "                corr = chunk[\"Transformed Sentiment\"].corr(chunk[\"Change\"], method=\"spearman\")\n",
    "                if corr > best_correlations_in_chunk[i]:\n",
    "                    best_correlations_in_chunk[i] = corr\n",
    "                    best_shifts_in_chunk[i] = shift\n",
    "                    best_spans_in_chunk[i] = span\n",
    "\n",
    "    if np.min(best_correlations_in_chunk) > best_mean_correlation:\n",
    "        best_shifts = best_shifts_in_chunk\n",
    "        best_spans = best_spans_in_chunk\n",
    "        best_correlations = best_correlations_in_chunk\n"
   ]
  },
  {
   "cell_type": "code",
   "execution_count": 196,
   "metadata": {},
   "outputs": [
    {
     "data": {
      "image/png": "[encoded data removed]",
      "text/plain": [
       "<Figure size 640x480 with 1 Axes>"
      ]
     },
     "metadata": {},
     "output_type": "display_data"
    },
    {
     "name": "stdout",
     "output_type": "stream",
     "text": [
      "Optimal Correlations\n",
      "[0.9999999999999999, 0.9999999999999999, 1.0, 0.5, 1.0, 0.9999999999999999, 0.9999999999999999, 0.8060606060606059, 1.0, 0.5757575757575757, 0.9999999999999999, 0.7714285714285715]\n",
      "-----------------------------------------------------------\n",
      "Optimal Shifts (how many days back are we looking?)\n",
      "[9, 9, 8, 8, 8, 8, 8, 0, 7, 0, 8, 4]\n",
      "------------------------------------------------------------\n",
      "Optimal EMA Spans\n",
      "[0, 0, 0, 0, 0, 0, 0, 0, 0, 0, 0, 2]\n"
     ]
    }
   ],
   "source": [
    "plt.plot(best_correlations_in_chunk)\n",
    "plt.xticks(range(0, len(best_correlations)), range(1, len(best_correlations)+1))\n",
    "plt.ylabel(\"Correlation\")\n",
    "plt.xlabel(\"Chunk\")\n",
    "plt.show()\n",
    "print(\"Optimal Correlations\")\n",
    "print(best_correlations_in_chunk)\n",
    "print(\"-----------------------------------------------------------\")\n",
    "print(\"Optimal Shifts (how many days back are we looking?)\")\n",
    "print(best_shifts_in_chunk)\n",
    "print(\"------------------------------------------------------------\")\n",
    "print(\"Optimal EMA Spans\")\n",
    "print(best_spans_in_chunk)"
   ]
  }
 ],
 "metadata": {
  "kernelspec": {
   "display_name": "Python 3",
   "language": "python",
   "name": "python3"
  },
  "language_info": {
   "codemirror_mode": {
    "name": "ipython",
    "version": 3
   },
   "file_extension": ".py",
   "mimetype": "text/x-python",
   "name": "python",
   "nbconvert_exporter": "python",
   "pygments_lexer": "ipython3",
   "version": "3.10.10"
  },
  "orig_nbformat": 4
 },
 "nbformat": 4,
 "nbformat_minor": 2
}
