{
 "cells": [
  {
   "cell_type": "code",
   "execution_count": 73,
   "id": "6fd11fb7",
   "metadata": {},
   "outputs": [
    {
     "name": "stderr",
     "output_type": "stream",
     "text": [
      "c:\\Users\\baruchfrost\\Anaconda3\\envs\\dev\\lib\\site-packages\\dateutil\\parser\\_parser.py:1207: UnknownTimezoneWarning: tzname ET identified but not understood.  Pass `tzinfos` argument in order to correctly return a timezone-aware datetime.  In a future version, this will raise an exception.\n",
      "  warnings.warn(\"tzname {tzname} identified but not understood.  \"\n"
     ]
    }
   ],
   "source": [
    "import pandas as pd\n",
    "import matplotlib.pyplot as plt\n",
    "import numpy as np\n",
    "\n",
    "df = pd.read_csv(\"./archive/cnbc_headlines.csv\")\n",
    "\n",
    "# Convert 'Time' column to datetime\n",
    "df['Time'] = pd.to_datetime(df['Time']).dt.date\n",
    "\n",
    "df.dropna(inplace=True)"
   ]
  },
  {
   "cell_type": "code",
   "execution_count": 74,
   "id": "add72ea9",
   "metadata": {},
   "outputs": [
    {
     "data": {
      "text/html": [
       "<div>\n",
       "<style scoped>\n",
       "    .dataframe tbody tr th:only-of-type {\n",
       "        vertical-align: middle;\n",
       "    }\n",
       "\n",
       "    .dataframe tbody tr th {\n",
       "        vertical-align: top;\n",
       "    }\n",
       "\n",
       "    .dataframe thead th {\n",
       "        text-align: right;\n",
       "    }\n",
       "</style>\n",
       "<table border=\"1\" class=\"dataframe\">\n",
       "  <thead>\n",
       "    <tr style=\"text-align: right;\">\n",
       "      <th></th>\n",
       "      <th>Headlines</th>\n",
       "      <th>Time</th>\n",
       "      <th>Description</th>\n",
       "    </tr>\n",
       "  </thead>\n",
       "  <tbody>\n",
       "    <tr>\n",
       "      <th>0</th>\n",
       "      <td>Jim Cramer: A better way to invest in the Covi...</td>\n",
       "      <td>2020-07-17</td>\n",
       "      <td>\"Mad Money\" host Jim Cramer recommended buying...</td>\n",
       "    </tr>\n",
       "    <tr>\n",
       "      <th>1</th>\n",
       "      <td>Cramer's lightning round: I would own Teradyne</td>\n",
       "      <td>2020-07-17</td>\n",
       "      <td>\"Mad Money\" host Jim Cramer rings the lightnin...</td>\n",
       "    </tr>\n",
       "    <tr>\n",
       "      <th>3</th>\n",
       "      <td>Cramer's week ahead: Big week for earnings, ev...</td>\n",
       "      <td>2020-07-17</td>\n",
       "      <td>\"We'll pay more for the earnings of the non-Co...</td>\n",
       "    </tr>\n",
       "    <tr>\n",
       "      <th>4</th>\n",
       "      <td>IQ Capital CEO Keith Bliss says tech and healt...</td>\n",
       "      <td>2020-07-17</td>\n",
       "      <td>Keith Bliss, IQ Capital CEO, joins \"Closing Be...</td>\n",
       "    </tr>\n",
       "    <tr>\n",
       "      <th>5</th>\n",
       "      <td>Wall Street delivered the 'kind of pullback I'...</td>\n",
       "      <td>2020-07-16</td>\n",
       "      <td>\"Look for the stocks of high-quality companies...</td>\n",
       "    </tr>\n",
       "    <tr>\n",
       "      <th>6</th>\n",
       "      <td>Cramer's lightning round: I would just stay lo...</td>\n",
       "      <td>2020-07-16</td>\n",
       "      <td>\"Mad Money\" host Jim Cramer rings the lightnin...</td>\n",
       "    </tr>\n",
       "    <tr>\n",
       "      <th>7</th>\n",
       "      <td>Acorns CEO: Parents can turn $5 into five figu...</td>\n",
       "      <td>2020-07-16</td>\n",
       "      <td>Investing $5 per day can compound to $70,000 b...</td>\n",
       "    </tr>\n",
       "    <tr>\n",
       "      <th>8</th>\n",
       "      <td>Dividend cuts may mean rethinking your retirem...</td>\n",
       "      <td>2020-07-16</td>\n",
       "      <td>Hundreds of companies have cut or suspended th...</td>\n",
       "    </tr>\n",
       "    <tr>\n",
       "      <th>10</th>\n",
       "      <td>StockX has authenticated 1 million Jordan snea...</td>\n",
       "      <td>2020-07-15</td>\n",
       "      <td>\"We've been able to capture these cultural mom...</td>\n",
       "    </tr>\n",
       "    <tr>\n",
       "      <th>11</th>\n",
       "      <td>Biohaven Pharmaceuticals lands Khloe Kardashia...</td>\n",
       "      <td>2020-07-15</td>\n",
       "      <td>Biohaven CEO Vlad Coric said the company broug...</td>\n",
       "    </tr>\n",
       "  </tbody>\n",
       "</table>\n",
       "</div>"
      ],
      "text/plain": [
       "                                            Headlines        Time  \\\n",
       "0   Jim Cramer: A better way to invest in the Covi...  2020-07-17   \n",
       "1      Cramer's lightning round: I would own Teradyne  2020-07-17   \n",
       "3   Cramer's week ahead: Big week for earnings, ev...  2020-07-17   \n",
       "4   IQ Capital CEO Keith Bliss says tech and healt...  2020-07-17   \n",
       "5   Wall Street delivered the 'kind of pullback I'...  2020-07-16   \n",
       "6   Cramer's lightning round: I would just stay lo...  2020-07-16   \n",
       "7   Acorns CEO: Parents can turn $5 into five figu...  2020-07-16   \n",
       "8   Dividend cuts may mean rethinking your retirem...  2020-07-16   \n",
       "10  StockX has authenticated 1 million Jordan snea...  2020-07-15   \n",
       "11  Biohaven Pharmaceuticals lands Khloe Kardashia...  2020-07-15   \n",
       "\n",
       "                                          Description  \n",
       "0   \"Mad Money\" host Jim Cramer recommended buying...  \n",
       "1   \"Mad Money\" host Jim Cramer rings the lightnin...  \n",
       "3   \"We'll pay more for the earnings of the non-Co...  \n",
       "4   Keith Bliss, IQ Capital CEO, joins \"Closing Be...  \n",
       "5   \"Look for the stocks of high-quality companies...  \n",
       "6   \"Mad Money\" host Jim Cramer rings the lightnin...  \n",
       "7   Investing $5 per day can compound to $70,000 b...  \n",
       "8   Hundreds of companies have cut or suspended th...  \n",
       "10  \"We've been able to capture these cultural mom...  \n",
       "11  Biohaven CEO Vlad Coric said the company broug...  "
      ]
     },
     "execution_count": 74,
     "metadata": {},
     "output_type": "execute_result"
    }
   ],
   "source": [
    "df.head(10)"
   ]
  },
  {
   "cell_type": "code",
   "execution_count": 75,
   "id": "686c5bd3",
   "metadata": {},
   "outputs": [
    {
     "name": "stdout",
     "output_type": "stream",
     "text": [
      "(2800, 1)\n"
     ]
    },
    {
     "data": {
      "text/html": [
       "<div>\n",
       "<style scoped>\n",
       "    .dataframe tbody tr th:only-of-type {\n",
       "        vertical-align: middle;\n",
       "    }\n",
       "\n",
       "    .dataframe tbody tr th {\n",
       "        vertical-align: top;\n",
       "    }\n",
       "\n",
       "    .dataframe thead th {\n",
       "        text-align: right;\n",
       "    }\n",
       "</style>\n",
       "<table border=\"1\" class=\"dataframe\">\n",
       "  <thead>\n",
       "    <tr style=\"text-align: right;\">\n",
       "      <th></th>\n",
       "      <th>Headlines</th>\n",
       "    </tr>\n",
       "  </thead>\n",
       "  <tbody>\n",
       "    <tr>\n",
       "      <th>0</th>\n",
       "      <td>Jim Cramer: A better way to invest in the Covi...</td>\n",
       "    </tr>\n",
       "    <tr>\n",
       "      <th>1</th>\n",
       "      <td>Cramer's lightning round: I would own Teradyne</td>\n",
       "    </tr>\n",
       "    <tr>\n",
       "      <th>3</th>\n",
       "      <td>Cramer's week ahead: Big week for earnings, ev...</td>\n",
       "    </tr>\n",
       "    <tr>\n",
       "      <th>4</th>\n",
       "      <td>IQ Capital CEO Keith Bliss says tech and healt...</td>\n",
       "    </tr>\n",
       "    <tr>\n",
       "      <th>5</th>\n",
       "      <td>Wall Street delivered the 'kind of pullback I'...</td>\n",
       "    </tr>\n",
       "  </tbody>\n",
       "</table>\n",
       "</div>"
      ],
      "text/plain": [
       "                                           Headlines\n",
       "0  Jim Cramer: A better way to invest in the Covi...\n",
       "1     Cramer's lightning round: I would own Teradyne\n",
       "3  Cramer's week ahead: Big week for earnings, ev...\n",
       "4  IQ Capital CEO Keith Bliss says tech and healt...\n",
       "5  Wall Street delivered the 'kind of pullback I'..."
      ]
     },
     "execution_count": 75,
     "metadata": {},
     "output_type": "execute_result"
    }
   ],
   "source": [
    "review_df = df[['Headlines']]\n",
    "\n",
    "print(review_df.shape)\n",
    "review_df.head(5)"
   ]
  },
  {
   "cell_type": "code",
   "execution_count": 76,
   "id": "e4ecff05",
   "metadata": {
    "scrolled": true
   },
   "outputs": [
    {
     "name": "stderr",
     "output_type": "stream",
     "text": [
      "C:\\Users\\baruchfrost\\AppData\\Local\\Temp\\ipykernel_16580\\1662762620.py:4: FutureWarning: Comparison of Timestamp with datetime.date is deprecated in order to match the standard library behavior. In a future version these will be considered non-comparable. Use 'ts == pd.Timestamp(date)' or 'ts.date() == date' instead.\n",
      "  df_filtered = df[(df['Time'] >= start_date) & (df['Time'] <= end_date)]\n"
     ]
    }
   ],
   "source": [
    "# Filter data within the specified time frame\n",
    "start_date = pd.to_datetime('2019-07-01')\n",
    "end_date = pd.to_datetime('2020-07-01')\n",
    "df_filtered = df[(df['Time'] >= start_date) & (df['Time'] <= end_date)]"
   ]
  },
  {
   "cell_type": "code",
   "execution_count": 77,
   "id": "64668ec1",
   "metadata": {},
   "outputs": [
    {
     "name": "stderr",
     "output_type": "stream",
     "text": [
      "C:\\Users\\baruchfrost\\AppData\\Local\\Temp\\ipykernel_16580\\2350247784.py:17: SettingWithCopyWarning: \n",
      "A value is trying to be set on a copy of a slice from a DataFrame.\n",
      "Try using .loc[row_indexer,col_indexer] = value instead\n",
      "\n",
      "See the caveats in the documentation: https://pandas.pydata.org/pandas-docs/stable/user_guide/indexing.html#returning-a-view-versus-a-copy\n",
      "  df_filtered['Sentiment Score'] = df_filtered['Headlines'].apply(analyze_sentiment)\n",
      "C:\\Users\\baruchfrost\\AppData\\Local\\Temp\\ipykernel_16580\\2350247784.py:19: SettingWithCopyWarning: \n",
      "A value is trying to be set on a copy of a slice from a DataFrame.\n",
      "Try using .loc[row_indexer,col_indexer] = value instead\n",
      "\n",
      "See the caveats in the documentation: https://pandas.pydata.org/pandas-docs/stable/user_guide/indexing.html#returning-a-view-versus-a-copy\n",
      "  df_filtered['Sentiment'] = df_filtered['Sentiment Score'].apply(sentiment_binning)\n"
     ]
    }
   ],
   "source": [
    "from textblob import TextBlob\n",
    "\n",
    "# Perform sentiment analysis on headlines\n",
    "def analyze_sentiment(text):\n",
    "    blob = TextBlob(text)\n",
    "    return blob.sentiment.polarity\n",
    "\n",
    "def sentiment_binning(sentiment):\n",
    "    if sentiment > 0:\n",
    "        return 'Positive'\n",
    "    elif sentiment < 0:\n",
    "        return 'Negative'\n",
    "    else:\n",
    "        return 'Neutral'\n",
    "\n",
    "# Apply sentiment analysis to filtered headlines\n",
    "df_filtered['Sentiment Score'] = df_filtered['Headlines'].apply(analyze_sentiment)\n",
    "\n",
    "df_filtered['Sentiment'] = df_filtered['Sentiment Score'].apply(sentiment_binning)"
   ]
  },
  {
   "cell_type": "code",
   "execution_count": 78,
   "id": "51b55596",
   "metadata": {},
   "outputs": [
    {
     "data": {
      "image/png": "[encoded data removed]",
      "text/plain": [
       "<Figure size 640x480 with 1 Axes>"
      ]
     },
     "metadata": {},
     "output_type": "display_data"
    }
   ],
   "source": [
    "sentiment_score_data = df_filtered[[\"Time\", \"Sentiment Score\"]]\n",
    "sentiment_score_data.set_index(\"Time\", inplace=True)\n",
    "\n",
    "sentiment_score_data_by_day = sentiment_score_data.groupby(\"Time\")['Sentiment Score'].apply(np.mean)\n",
    "\n",
    "sentiment_data = pd.DataFrame({\"Sentiment\": sentiment_score_data_by_day, \"Date\": sentiment_score_data_by_day.index})\n",
    "sentiment_data.set_index(\"Date\", inplace=True)\n",
    "\n",
    "sentiment_data.plot(kind=\"line\")\n",
    "plt.show()"
   ]
  },
  {
   "cell_type": "code",
   "execution_count": 79,
   "id": "cc5170d0",
   "metadata": {},
   "outputs": [],
   "source": [
    "sentiment_data.to_csv(\"./analysis result data/cnbc_news_sentiment_data.csv\")"
   ]
  }
 ],
 "metadata": {
  "kernelspec": {
   "display_name": "Python 3 (ipykernel)",
   "language": "python",
   "name": "python3"
  },
  "language_info": {
   "codemirror_mode": {
    "name": "ipython",
    "version": 3
   },
   "file_extension": ".py",
   "mimetype": "text/x-python",
   "name": "python",
   "nbconvert_exporter": "python",
   "pygments_lexer": "ipython3",
   "version": "3.10.10"
  }
 },
 "nbformat": 4,
 "nbformat_minor": 5
}
